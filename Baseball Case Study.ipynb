{
 "cells": [
  {
   "cell_type": "code",
   "execution_count": null,
   "id": "590a360f",
   "metadata": {},
   "outputs": [],
   "source": [
    "from ggplot import *\n",
    "import pandas as pd\n",
    "import numpy as np\n",
    "%matplotlib inline\n",
    "\n",
    "df = pd.read_csv(\"./baseball-pitches-clean.csv\")\n",
    "df = df[['pitch_time', 'inning', 'pitcher_name', 'hitter_name', 'pitch_type', \n",
    "         'px', 'pz', 'pitch_name', 'start_speed', 'end_speed', 'type_confidence']]\n",
    "df.head()\n",
    "     \n",
    "\n",
    "ggplot(df, aes(x='px', y='pz')) + geom_point()\n",
    "ggplot(aes(x='start_speed', y='end_speed'), data=df) + geom_point()\n",
    "ggplot(df, aes(x='start_speed')) + geom_histogram()\n",
    "\n",
    "for name, frame in df.groupby(\"pitch_name\"):\n",
    "    print ggplot(aes(x='start_speed'), data=frame) + geom_histogram() + ggtitle(\"Distribution of \" + str(name))\n",
    "\n",
    "ggplot(aes(x='start_speed'), data=df) +\\\n",
    "    geom_histogram() +\\\n",
    "    facet_wrap('pitch_name')\n",
    "\n",
    "from IPython.display import YouTubeVideo\n",
    "YouTubeVideo(\"ikLlRT2j7EQ\")\n",
    "\n",
    "ggplot(aes(x='pitch_type'), data=df) + geom_bar()\n",
    "\n",
    "ggplot(aes(x='start_speed'), data=df) +\\\n",
    "    geom_histogram() +\\\n",
    "    facet_grid('pitch_type')\n",
    "\n",
    "ggplot(aes(x='start_speed'), data=df) +\\\n",
    "    geom_histogram() +\\\n",
    "    facet_grid('pitch_name', 'pitch_type', scales=\"free\")\n",
    "\n",
    "ggplot(df, aes(x='start_speed')) +\\\n",
    "    geom_density()\n",
    "\n",
    "ggplot(df, aes(x='start_speed', color='pitch_name')) +\\\n",
    "    geom_density()"
   ]
  }
 ],
 "metadata": {
  "kernelspec": {
   "display_name": "Python 3 (ipykernel)",
   "language": "python",
   "name": "python3"
  },
  "language_info": {
   "codemirror_mode": {
    "name": "ipython",
    "version": 3
   },
   "file_extension": ".py",
   "mimetype": "text/x-python",
   "name": "python",
   "nbconvert_exporter": "python",
   "pygments_lexer": "ipython3",
   "version": "3.11.5"
  }
 },
 "nbformat": 4,
 "nbformat_minor": 5
}
